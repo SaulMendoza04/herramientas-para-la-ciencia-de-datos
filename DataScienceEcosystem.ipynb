{
 "cells": [
  {
   "cell_type": "markdown",
   "id": "dc9b52ba-cf8f-4809-b54c-50251973a946",
   "metadata": {},
   "source": [
    "# Data Science Tools and Ecosystem"
   ]
  },
  {
   "cell_type": "markdown",
   "id": "3e2e2d78-2169-4a67-a04a-0cfc426d8b61",
   "metadata": {},
   "source": [
    "En este cuaderno, se resumen las herramientas y ecosistemas de ciencia de datos."
   ]
  },
  {
   "cell_type": "markdown",
   "id": "e2a4d257-41dc-40e6-af61-27869cafb173",
   "metadata": {},
   "source": [
    "**Objetivos:**\n",
    "* enlistar las bibliotecas comunmente utilizadas por los cientificos de datos\n",
    "* enlistar herramientas de ciencias de datos}\n",
    "* mostrar expresiones matematicas\n",
    "* mostrar como convertir minutos en horas"
   ]
  },
  {
   "cell_type": "markdown",
   "id": "51f4014a-fba9-449f-9bae-10ab235e3081",
   "metadata": {},
   "source": [
    "Algunos de los lenguajes populares que utilizan los científicos de datos son:\n",
    "1. R\n",
    "2. Python\n",
    "3. SQL\n",
    "4. Julia\n",
    "5. SAS\n",
    "6. SPSS"
   ]
  },
  {
   "cell_type": "markdown",
   "id": "7226b6b4-99ab-4755-afcc-0a495ebe37e6",
   "metadata": {},
   "source": [
    "Algunas de las bibliotecas comúnmente utilizadas por los científicos de datos incluyen:\n",
    "1. Caret en R\n",
    "2. Scikit-learn en Python\n",
    "3. TensorFlow\n",
    "4. NumPy\n",
    "5. Pandas"
   ]
  },
  {
   "cell_type": "markdown",
   "id": "10ca313c-8ca0-4293-ab3b-592c470e6782",
   "metadata": {},
   "source": [
    "| herramientas de ciencia de datos |\n",
    "| ---------- |\n",
    "| Jupyter Notebooks |\n",
    "| R studio |\n",
    "| Python |\n",
    "| Apache Zeppelin |"
   ]
  },
  {
   "cell_type": "markdown",
   "id": "345303ea-8a4c-4494-b3ea-4b83499869f4",
   "metadata": {},
   "source": [
    "### A continuación, se presentan algunos ejemplos de evaluación de expresiones aritméticas en Python\n",
    "x=5\n",
    "\n",
    "y=7\n",
    "\n",
    "x-y\n",
    "\n",
    "x+y\n",
    "\n",
    "x/y\n",
    "\n",
    "x*y\n"
   ]
  },
  {
   "cell_type": "code",
   "execution_count": 11,
   "id": "2d117f9b-1f46-40bc-8f06-e4071ed8f799",
   "metadata": {},
   "outputs": [
    {
     "data": {
      "text/plain": [
       "17"
      ]
     },
     "execution_count": 11,
     "metadata": {},
     "output_type": "execute_result"
    }
   ],
   "source": [
    "#Esta es una expresión aritmética simple para multiplicar y luego sumar enteros\n",
    "(3*4)+5"
   ]
  },
  {
   "cell_type": "code",
   "execution_count": 29,
   "id": "553471e4-d542-4556-bc4f-2a17f3c5db9a",
   "metadata": {},
   "outputs": [
    {
     "name": "stdout",
     "output_type": "stream",
     "text": [
      "200 minutos munutos convertidos a horas son: 3 : 20 horas\n"
     ]
    }
   ],
   "source": [
    "#Esto convertirá 200 minutos a horas dividiendo por 60\n",
    "x=200//60\n",
    "y=200%60\n",
    "print(\"200 minutos munutos convertidos a horas son:\",x,\":\",y,\"horas\")"
   ]
  },
  {
   "cell_type": "markdown",
   "id": "aca89ee2-7392-411a-9c6b-84372dd7523b",
   "metadata": {},
   "source": [
    "## Autor\n",
    "Saul Mendoza Mendiola"
   ]
  },
  {
   "cell_type": "code",
   "execution_count": null,
   "id": "5cdfed83-2a84-4f12-90de-d2ef2e45ebbe",
   "metadata": {},
   "outputs": [],
   "source": []
  }
 ],
 "metadata": {
  "kernelspec": {
   "display_name": "Python [conda env:base] *",
   "language": "python",
   "name": "conda-base-py"
  },
  "language_info": {
   "codemirror_mode": {
    "name": "ipython",
    "version": 3
   },
   "file_extension": ".py",
   "mimetype": "text/x-python",
   "name": "python",
   "nbconvert_exporter": "python",
   "pygments_lexer": "ipython3",
   "version": "3.12.7"
  }
 },
 "nbformat": 4,
 "nbformat_minor": 5
}
